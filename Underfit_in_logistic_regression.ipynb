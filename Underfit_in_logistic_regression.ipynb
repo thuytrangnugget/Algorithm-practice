{
  "nbformat": 4,
  "nbformat_minor": 0,
  "metadata": {
    "colab": {
      "name": "Underfit in logistic regression",
      "provenance": [],
      "authorship_tag": "ABX9TyOCe38XPUEsvr19yr3LRs0n",
      "include_colab_link": true
    },
    "kernelspec": {
      "name": "python3",
      "display_name": "Python 3"
    },
    "language_info": {
      "name": "python"
    }
  },
  "cells": [
    {
      "cell_type": "markdown",
      "metadata": {
        "id": "view-in-github",
        "colab_type": "text"
      },
      "source": [
        "<a href=\"https://colab.research.google.com/github/thuytrangnugget/Algorithm-practice/blob/main/Underfit_in_logistic_regression.ipynb\" target=\"_parent\"><img src=\"https://colab.research.google.com/assets/colab-badge.svg\" alt=\"Open In Colab\"/></a>"
      ]
    },
    {
      "cell_type": "code",
      "metadata": {
        "id": "_TqWv1QRzadY"
      },
      "source": [
        "import math\n",
        "import numpy\n",
        "import seaborn\n",
        "import pandas\n",
        "from sklearn.linear_model import LogisticRegression"
      ],
      "execution_count": 35,
      "outputs": []
    },
    {
      "cell_type": "code",
      "metadata": {
        "id": "Ht2DiMkzzhPP"
      },
      "source": [
        "# For showing legends on plots\n",
        "tp = \"true_postive\"\n",
        "tn = \"true_negative\"\n",
        "fn = \"false_negative\"\n",
        "color_dict = dict({tp:'orange', tn:'green', fn: \"red\"})"
      ],
      "execution_count": 36,
      "outputs": []
    },
    {
      "cell_type": "markdown",
      "metadata": {
        "id": "llkEAfqlz9Mi"
      },
      "source": [
        "**Correct data**\n",
        "\n",
        "Let's start with 9 points.\n",
        "\n",
        "First 4 are positive points (+1) in the positive quadrant.\n",
        "\n",
        "Last 5 are negative points (-1) in the negative quadrant."
      ]
    },
    {
      "cell_type": "code",
      "metadata": {
        "colab": {
          "base_uri": "https://localhost:8080/",
          "height": 551
        },
        "id": "W2rHksyxz1Xo",
        "outputId": "41fa85ed-1d1e-4dab-9492-8f685e574e94"
      },
      "source": [
        "X = numpy.array([[3, 2], [2, 4], [1, 2], [2, 1], [-2, -1], [-1, -2],[-4, -1], [-3, -2],[-3, -4]])\n",
        "y = numpy.array([1, 1, 1, 1, -1, -1, -1, -1, -1])\n",
        "\n",
        "# labels\n",
        "classification = numpy.array([tp, tp, tp, tp, tn, tn, tn, tn, tn])\n",
        "\n",
        "\n",
        "print(\"About the plot:\")\n",
        "\n",
        "print(\"Training data, which is very well separated linearly.\")\n",
        "seaborn.set(rc={'figure.figsize':(11.7,8.27)})\n",
        "seaborn.scatterplot(x = X[:, 0] , y = X[:, 1], hue=classification[:], palette = color_dict)\n",
        "print(\"\")"
      ],
      "execution_count": 37,
      "outputs": [
        {
          "output_type": "stream",
          "name": "stdout",
          "text": [
            "About the plot:\n",
            "Training data, which is very well separated linearly.\n",
            "\n"
          ]
        },
        {
          "output_type": "display_data",
          "data": {
            "image/png": "[encoded data removed]",
            "text/plain": [
              "<Figure size 842.4x595.44 with 1 Axes>"
            ]
          },
          "metadata": {}
        }
      ]
    },
    {
      "cell_type": "markdown",
      "metadata": {
        "id": "xNKWftH10hZf"
      },
      "source": [
        "**Lets create classifiers with different values of regularizers.**\n",
        "\n",
        "In scikit-learn, C instead of λ notation is used.\n",
        "\n",
        "Relation between λ and C is: C = 1/λ\n",
        "\n",
        "For underfitted model C shall be set to small value so that λ will be high.\n",
        "\n",
        "Lets see how the classifiers with different regularization values (parameter C) fits the perfect linearly separable data."
      ]
    },
    {
      "cell_type": "markdown",
      "metadata": {
        "id": "cgJXKWIY4nsG"
      },
      "source": [
        "**Let's add one wrong data point**\n",
        "\n",
        "The point is in the positive quadrant but labeled as -1."
      ]
    },
    {
      "cell_type": "code",
      "metadata": {
        "colab": {
          "base_uri": "https://localhost:8080/",
          "height": 551
        },
        "id": "-YJRFPsd4s7g",
        "outputId": "b4b58ea1-892c-4d80-a0cf-61b57c25d32b"
      },
      "source": [
        "X = numpy.append(X, [[.1, .5]], axis = 0)\n",
        "y = numpy.append(y, [-1], axis = 0)\n",
        "classification = numpy.append(classification, [fn], axis = 0)\n",
        "\n",
        "print(\"About the plot:\")\n",
        "print(\"One wrong data point, the red one.\")\n",
        "seaborn.set(rc={'figure.figsize':(11.7,8.27)})\n",
        "seaborn.scatterplot(x = X[:, 0] , y = X[:, 1], hue=classification[:], palette = color_dict)\n",
        "print(\"\")"
      ],
      "execution_count": 38,
      "outputs": [
        {
          "output_type": "stream",
          "name": "stdout",
          "text": [
            "About the plot:\n",
            "One wrong data point, the red one.\n",
            "\n"
          ]
        },
        {
          "output_type": "display_data",
          "data": {
            "image/png": "[encoded data removed]",
            "text/plain": [
              "<Figure size 842.4x595.44 with 1 Axes>"
            ]
          },
          "metadata": {}
        }
      ]
    },
    {
      "cell_type": "markdown",
      "metadata": {
        "id": "rd1GmduX49ss"
      },
      "source": [
        "We expect all query points in positive quadrant shall be classified as +1 and all points in negative quadrant be classified as -1.\n",
        "\n",
        "We do not expect a classifier to give incorrect results only because of 1 wrong point when 9 other points in training data are correct.\n",
        "\n",
        "Now lets create new classifiers with the same regularizations but using data having a single wrong point."
      ]
    },
    {
      "cell_type": "code",
      "metadata": {
        "colab": {
          "base_uri": "https://localhost:8080/",
          "height": 142
        },
        "id": "yLsUZ63n5Gjz",
        "outputId": "08f07b5c-5ec3-4493-8632-b67b26999532"
      },
      "source": [
        "underfit_1 = LogisticRegression(random_state=0, C = 0.001, fit_intercept = False).fit(X, y)\n",
        "underfit_2 = LogisticRegression(random_state=0, C = 0.0001, fit_intercept = False).fit(X, y)\n",
        "underfit_3 = LogisticRegression(random_state=0, C = 0.00001, fit_intercept = False).fit(X, y)\n",
        "classifiers_titles = [\"underfit_1\", \"underfit_2\", \"underfit_3\"]\n",
        "\n",
        "classifiers = []\n",
        "classifiers = numpy.append(classifiers, underfit_1)\n",
        "classifiers = numpy.append(classifiers, underfit_2)\n",
        "classifiers = numpy.append(classifiers, underfit_3)\n",
        "\n",
        "df = pandas.DataFrame()\n",
        "df[\"Classifier_object\"] = classifiers\n",
        "df[\"Classifier\"] = classifiers_titles\n",
        "\n",
        "theta_vectors = numpy.empty((0,2))\n",
        "for x in classifiers:\n",
        "    theta_vectors = numpy.append(theta_vectors, x.coef_, axis=0)\n",
        "\n",
        "df[\"theta0\"] = theta_vectors[:,0]\n",
        "df[\"theta1\"] = theta_vectors[:,1]\n",
        "\n",
        "df"
      ],
      "execution_count": 20,
      "outputs": [
        {
          "output_type": "execute_result",
          "data": {
            "text/html": [
              "<div>\n",
              "<style scoped>\n",
              "    .dataframe tbody tr th:only-of-type {\n",
              "        vertical-align: middle;\n",
              "    }\n",
              "\n",
              "    .dataframe tbody tr th {\n",
              "        vertical-align: top;\n",
              "    }\n",
              "\n",
              "    .dataframe thead th {\n",
              "        text-align: right;\n",
              "    }\n",
              "</style>\n",
              "<table border=\"1\" class=\"dataframe\">\n",
              "  <thead>\n",
              "    <tr style=\"text-align: right;\">\n",
              "      <th></th>\n",
              "      <th>Classifier_object</th>\n",
              "      <th>Classifier</th>\n",
              "      <th>theta0</th>\n",
              "      <th>theta1</th>\n",
              "    </tr>\n",
              "  </thead>\n",
              "  <tbody>\n",
              "    <tr>\n",
              "      <th>0</th>\n",
              "      <td>LogisticRegression(C=0.001, class_weight=None,...</td>\n",
              "      <td>underfit_1</td>\n",
              "      <td>0.010205</td>\n",
              "      <td>0.009022</td>\n",
              "    </tr>\n",
              "    <tr>\n",
              "      <th>1</th>\n",
              "      <td>LogisticRegression(C=0.0001, class_weight=None...</td>\n",
              "      <td>underfit_2</td>\n",
              "      <td>0.001042</td>\n",
              "      <td>0.000923</td>\n",
              "    </tr>\n",
              "    <tr>\n",
              "      <th>2</th>\n",
              "      <td>LogisticRegression(C=1e-05, class_weight=None,...</td>\n",
              "      <td>underfit_3</td>\n",
              "      <td>0.000104</td>\n",
              "      <td>0.000092</td>\n",
              "    </tr>\n",
              "  </tbody>\n",
              "</table>\n",
              "</div>"
            ],
            "text/plain": [
              "                                   Classifier_object  ...    theta1\n",
              "0  LogisticRegression(C=0.001, class_weight=None,...  ...  0.009022\n",
              "1  LogisticRegression(C=0.0001, class_weight=None...  ...  0.000923\n",
              "2  LogisticRegression(C=1e-05, class_weight=None,...  ...  0.000092\n",
              "\n",
              "[3 rows x 4 columns]"
            ]
          },
          "metadata": {},
          "execution_count": 20
        }
      ]
    },
    {
      "cell_type": "markdown",
      "metadata": {
        "id": "5bjvXW5f9Yn-"
      },
      "source": [
        "Let's check query point 0.1, 0.5 which is expected to be classified as +1"
      ]
    },
    {
      "cell_type": "code",
      "metadata": {
        "colab": {
          "base_uri": "https://localhost:8080/",
          "height": 159
        },
        "id": "ZpfpCXjX5Y92",
        "outputId": "f82af82c-988f-4b80-9286-2123c5ebb2ea"
      },
      "source": [
        "query_pt = [[0.1, 0.5]]\n",
        "predictions_probability = numpy.empty((0,2))\n",
        "predictions = numpy.empty((0,))\n",
        "for x in classifiers:\n",
        "    predictions_probability = numpy.append(predictions_probability, x.predict_proba(query_pt), axis=0)\n",
        "    predictions = numpy.append(predictions, x.predict(query_pt), axis=0)\n",
        "\n",
        "\n",
        "df[\"Probability -1\"] = predictions_probability[:, 0]\n",
        "df[\"Probability +1\"] = predictions_probability[:, 1]\n",
        "df[\"predictions\"] = predictions\n",
        "pandas.set_option('display.float_format', lambda x: '%.5f' % x)\n",
        "print(\"Query point = \", query_pt)\n",
        "df"
      ],
      "execution_count": 25,
      "outputs": [
        {
          "output_type": "stream",
          "name": "stdout",
          "text": [
            "Query point =  [[0.1, 0.5]]\n"
          ]
        },
        {
          "output_type": "execute_result",
          "data": {
            "text/html": [
              "<div>\n",
              "<style scoped>\n",
              "    .dataframe tbody tr th:only-of-type {\n",
              "        vertical-align: middle;\n",
              "    }\n",
              "\n",
              "    .dataframe tbody tr th {\n",
              "        vertical-align: top;\n",
              "    }\n",
              "\n",
              "    .dataframe thead th {\n",
              "        text-align: right;\n",
              "    }\n",
              "</style>\n",
              "<table border=\"1\" class=\"dataframe\">\n",
              "  <thead>\n",
              "    <tr style=\"text-align: right;\">\n",
              "      <th></th>\n",
              "      <th>Classifier_object</th>\n",
              "      <th>Classifier</th>\n",
              "      <th>theta0</th>\n",
              "      <th>theta1</th>\n",
              "      <th>Probability -1</th>\n",
              "      <th>Probability +1</th>\n",
              "      <th>predictions</th>\n",
              "    </tr>\n",
              "  </thead>\n",
              "  <tbody>\n",
              "    <tr>\n",
              "      <th>0</th>\n",
              "      <td>LogisticRegression(C=0.001, class_weight=None,...</td>\n",
              "      <td>underfit_1</td>\n",
              "      <td>0.01021</td>\n",
              "      <td>0.00902</td>\n",
              "      <td>0.49862</td>\n",
              "      <td>0.50138</td>\n",
              "      <td>1.00000</td>\n",
              "    </tr>\n",
              "    <tr>\n",
              "      <th>1</th>\n",
              "      <td>LogisticRegression(C=0.0001, class_weight=None...</td>\n",
              "      <td>underfit_2</td>\n",
              "      <td>0.00104</td>\n",
              "      <td>0.00092</td>\n",
              "      <td>0.49986</td>\n",
              "      <td>0.50014</td>\n",
              "      <td>1.00000</td>\n",
              "    </tr>\n",
              "    <tr>\n",
              "      <th>2</th>\n",
              "      <td>LogisticRegression(C=1e-05, class_weight=None,...</td>\n",
              "      <td>underfit_3</td>\n",
              "      <td>0.00010</td>\n",
              "      <td>0.00009</td>\n",
              "      <td>0.49999</td>\n",
              "      <td>0.50001</td>\n",
              "      <td>1.00000</td>\n",
              "    </tr>\n",
              "  </tbody>\n",
              "</table>\n",
              "</div>"
            ],
            "text/plain": [
              "                                   Classifier_object  ... predictions\n",
              "0  LogisticRegression(C=0.001, class_weight=None,...  ...     1.00000\n",
              "1  LogisticRegression(C=0.0001, class_weight=None...  ...     1.00000\n",
              "2  LogisticRegression(C=1e-05, class_weight=None,...  ...     1.00000\n",
              "\n",
              "[3 rows x 7 columns]"
            ]
          },
          "metadata": {},
          "execution_count": 25
        }
      ]
    },
    {
      "cell_type": "markdown",
      "metadata": {
        "id": "hMkjs2yT_dfZ"
      },
      "source": [
        "In the above classifier, the model still predicts correct result, but the probability of being wrong is very high (~49%). Therefore it can't be generalized for more complex data in real life."
      ]
    }
  ]
}